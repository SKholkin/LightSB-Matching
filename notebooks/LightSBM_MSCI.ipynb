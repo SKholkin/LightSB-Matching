{
 "cells": [
  {
   "cell_type": "markdown",
   "id": "a37a4603",
   "metadata": {},
   "source": [
    "## Imports"
   ]
  },
  {
   "cell_type": "code",
   "execution_count": null,
   "id": "eb46fcc0",
   "metadata": {},
   "outputs": [],
   "source": [
    "import torch\n",
    "from tqdm import tqdm\n",
    "import torch.nn.functional as F\n",
    "import wandb\n",
    "import numpy as np\n",
    "\n",
    "import sys\n",
    "\n",
    "sys.path.append('..')\n",
    "\n",
    "from src.lightsbm import LightSBM\n",
    "\n",
    "from notebooks_utils import mmd\n",
    "from notebooks_utils import TensorSampler\n"
   ]
  },
  {
   "cell_type": "markdown",
   "id": "b378ed99",
   "metadata": {},
   "source": [
    "## Parameters"
   ]
  },
  {
   "cell_type": "code",
   "execution_count": null,
   "id": "7b7119c3",
   "metadata": {
    "tags": [
     "parameters"
    ]
   },
   "outputs": [],
   "source": [
    "\n",
    "dim = 50\n",
    "eps = 0.1\n",
    "n_potentials = 10\n",
    "S_init = 1.\n",
    "\n",
    "\n",
    "DAY_START = 3\n",
    "DAY_END = 7\n",
    "DAY_EVAL = 4\n",
    "\n",
    "device = 'cpu'\n",
    "\n",
    "SEED = 42\n",
    "torch.manual_seed(SEED); np.random.seed(SEED)\n"
   ]
  },
  {
   "cell_type": "markdown",
   "id": "c608104f",
   "metadata": {},
   "source": [
    "## Data"
   ]
  },
  {
   "cell_type": "code",
   "execution_count": null,
   "id": "fca6c0a1",
   "metadata": {},
   "outputs": [],
   "source": [
    "\n",
    "def load_MSCI_data(dim, day_start, day_eval, day_end):\n",
    "    data = {}\n",
    "    for day in [2, 3, 4, 7]:\n",
    "        data[day] = np.load(f\"../data/full_cite_pcas_{dim}_day_{day}.npy\")\n",
    "\n",
    "    eval_data = data[day_eval]\n",
    "    start_data = data[day_start]\n",
    "    end_data = data[day_end]\n",
    "\n",
    "    constant_scale = np.concatenate([start_data, end_data, eval_data]).std(axis=0).mean()\n",
    "    \n",
    "    eval_data_scaled = eval_data/constant_scale\n",
    "    start_data_scaled = start_data/constant_scale\n",
    "    end_data_scaled = end_data/constant_scale\n",
    "\n",
    "    eval_data = torch.tensor(eval_data).float()\n",
    "    start_data = torch.tensor(start_data_scaled).float()\n",
    "    end_data = torch.tensor(end_data_scaled).float()\n",
    "\n",
    "    X_sampler = TensorSampler(torch.tensor(start_data).float(), device=\"cpu\")\n",
    "    Y_sampler = TensorSampler(torch.tensor(end_data).float(), device=\"cpu\")\n",
    "    \n",
    "    return X_sampler, Y_sampler, constant_scale, start_data, eval_data, end_data\n",
    "\n",
    "X_sampler, Y_sampler, constant_scale, start_data, eval_data, end_data = load_MSCI_data(dim, DAY_START, DAY_EVAL, DAY_END)\n"
   ]
  },
  {
   "cell_type": "markdown",
   "id": "4af2938c",
   "metadata": {},
   "source": [
    "## Model"
   ]
  },
  {
   "cell_type": "code",
   "execution_count": null,
   "id": "afdbfa2d",
   "metadata": {},
   "outputs": [],
   "source": [
    "\n",
    "model = LightSBM(dim=dim, n_potentials=n_potentials, epsilon=eps, S_diagonal_init=S_init, is_diagonal=True)\n",
    "\n",
    "model.init_r_by_samples(Y_sampler.sample(n_potentials))\n",
    "\n",
    "model.to(device)\n",
    "\n",
    "opt = torch.optim.Adam(model.parameters(), lr=1e-2)\n"
   ]
  },
  {
   "cell_type": "markdown",
   "id": "4461fe86",
   "metadata": {},
   "source": [
    "## Train"
   ]
  },
  {
   "cell_type": "code",
   "execution_count": null,
   "id": "e24335fa",
   "metadata": {},
   "outputs": [],
   "source": [
    "\n",
    "def train(model, max_iter, eps, opt, val_freq=1000, batch_size=512, safe_t=1e-2, device=device):\n",
    "    \n",
    "    pbar = tqdm(range(1, max_iter + 1))\n",
    "    \n",
    "    for i in pbar:\n",
    "        \n",
    "        x_0_samples = X_sampler.sample(batch_size).to(device)      \n",
    "        x_1_samples = Y_sampler.sample(batch_size).to(device)\n",
    "        \n",
    "        t = torch.rand([batch_size, 1], device=device) * (1 - safe_t)\n",
    "                \n",
    "        x_t = x_1_samples * t + x_0_samples * (1 - t) + torch.sqrt(eps * t * (1 - t)) * torch.randn_like(x_0_samples)\n",
    "        \n",
    "        predicted_drift = model.get_drift(x_t, t.squeeze())\n",
    "        \n",
    "        loss_plan = (model.get_log_C(x_0_samples) - model.get_log_potential(x_1_samples)).mean()\n",
    "        \n",
    "        target_drift = (x_1_samples - x_t) / (1 - t)\n",
    "        \n",
    "        loss = F.mse_loss(target_drift, predicted_drift)\n",
    "        \n",
    "        opt.zero_grad()\n",
    "        \n",
    "        loss.backward()\n",
    "        \n",
    "        opt.step()\n",
    "        \n",
    "        pbar.set_description(f'Loss : {loss.item()} Plan Loss: {loss_plan.item()}')\n",
    "        \n",
    "        if wandb.run:\n",
    "            wandb.log({'loss_bm': loss, 'loss_plan': loss_plan})\n",
    "        \n",
    "        if i % val_freq == 0:\n",
    "            # evaluate modle by BW UVP and cBWUVP\n",
    "            \n",
    "            t = torch.Tensor([(DAY_EVAL - DAY_START)/ (DAY_END - DAY_START)])\n",
    "            \n",
    "            x_eval_pred = model.sample_at_time_moment(start_data, t)\n",
    "            \n",
    "            eval_mmd = mmd(x_eval_pred.cpu() * constant_scale, eval_data)\n",
    "                        \n",
    "            print(f'Eval MMD {eval_mmd}')\n",
    "            \n",
    "            if wandb.run:\n",
    "                wandb.log({'mmd': eval_mmd})\n",
    "\n",
    "            "
   ]
  },
  {
   "cell_type": "code",
   "execution_count": null,
   "id": "8f123d61",
   "metadata": {
    "scrolled": true
   },
   "outputs": [],
   "source": [
    "\n",
    "wandb.init(project=\"OSBM\", name=f\"LSBM_MSCI_{dim}_SEED_{SEED}\")\n",
    "\n",
    "train(model, max_iter=10000, eps=eps, opt=opt, val_freq=1000, batch_size=512, safe_t=1e-2, device=device)\n",
    "\n",
    "wandb.finish()\n"
   ]
  },
  {
   "cell_type": "code",
   "execution_count": null,
   "id": "844de8d4",
   "metadata": {},
   "outputs": [],
   "source": [
    "wandb.finish()"
   ]
  }
 ],
 "metadata": {
  "celltoolbar": "Tags",
  "kernelspec": {
   "display_name": "Python 3 (ipykernel)",
   "language": "python",
   "name": "python3"
  },
  "language_info": {
   "codemirror_mode": {
    "name": "ipython",
    "version": 3
   },
   "file_extension": ".py",
   "mimetype": "text/x-python",
   "name": "python",
   "nbconvert_exporter": "python",
   "pygments_lexer": "ipython3",
   "version": "3.10.10"
  }
 },
 "nbformat": 4,
 "nbformat_minor": 5
}
