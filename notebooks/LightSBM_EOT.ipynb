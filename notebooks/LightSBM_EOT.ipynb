{
 "cells": [
  {
   "cell_type": "markdown",
   "id": "7653d189",
   "metadata": {},
   "source": [
    "## Imports"
   ]
  },
  {
   "cell_type": "code",
   "execution_count": null,
   "id": "a28a5bb5",
   "metadata": {},
   "outputs": [],
   "source": [
    "import torch\n",
    "from tqdm import tqdm\n",
    "import torch.nn.functional as F\n",
    "import wandb\n",
    "import numpy as np\n",
    "\n",
    "from eot_benchmark.gaussian_mixture_benchmark import (\n",
    "    get_guassian_mixture_benchmark_sampler,\n",
    "    get_guassian_mixture_benchmark_ground_truth_sampler\n",
    ")\n",
    "\n",
    "from eot_benchmark.gaussian_mixture_benchmark import get_test_input_samples\n",
    "from eot_benchmark.metrics import compute_BW_UVP_by_gt_samples, calculate_cond_bw\n",
    "\n",
    "import sys\n",
    "\n",
    "sys.path.append('..')\n",
    "\n",
    "from src.lightsbm import LightSBM\n",
    "from src.discrete_ot import OTPlanSampler\n",
    "\n",
    "from notebooks_utils import (get_indepedent_plan_sample_fn, get_discrete_ot_plan_sample_fn,\n",
    "                   get_gt_plan_sample_fn_EOT, EOTGMMSampler)\n",
    "\n",
    "from notebooks_utils import calcuate_condBW\n"
   ]
  },
  {
   "cell_type": "markdown",
   "id": "544e0b18",
   "metadata": {},
   "source": [
    "## Parameters"
   ]
  },
  {
   "cell_type": "code",
   "execution_count": null,
   "id": "6f6f8ba7",
   "metadata": {
    "tags": [
     "parameters"
    ]
   },
   "outputs": [],
   "source": [
    "\n",
    "dim = 64\n",
    "eps = 0.1\n",
    "n_potentials = 100\n",
    "S_init = 0.1\n",
    "\n",
    "device = 'cpu'\n",
    "\n",
    "SEED = 42\n",
    "series_id = 1\n",
    "\n",
    "plan_type ='ind'\n",
    "\n",
    "torch.manual_seed(SEED); np.random.seed(SEED)\n"
   ]
  },
  {
   "cell_type": "markdown",
   "id": "95b49f02",
   "metadata": {},
   "source": [
    "## Data"
   ]
  },
  {
   "cell_type": "code",
   "execution_count": null,
   "id": "0cfb10c3",
   "metadata": {},
   "outputs": [],
   "source": [
    "\n",
    "sampler = EOTGMMSampler(dim, eps)\n"
   ]
  },
  {
   "cell_type": "markdown",
   "id": "02250fe5",
   "metadata": {},
   "source": [
    "## Model"
   ]
  },
  {
   "cell_type": "code",
   "execution_count": null,
   "id": "41a58bf1",
   "metadata": {},
   "outputs": [],
   "source": [
    "\n",
    "model = LightSBM(dim=dim, n_potentials=n_potentials, epsilon=eps, S_diagonal_init=S_init, is_diagonal=True)\n",
    "\n",
    "model.init_r_by_samples(sampler.y_sample(n_potentials))\n",
    "\n",
    "model.to(device)\n",
    "\n",
    "opt = torch.optim.Adam(model.parameters(), lr=1e-3)\n"
   ]
  },
  {
   "cell_type": "markdown",
   "id": "b1a8c124",
   "metadata": {},
   "source": [
    "## Train"
   ]
  },
  {
   "cell_type": "code",
   "execution_count": null,
   "id": "925ff29e",
   "metadata": {},
   "outputs": [],
   "source": [
    "\n",
    "def train(model, max_iter, eps, opt, conditional_sample_fn, val_freq=5000, batch_size=512, safe_t=1e-2, device=device):\n",
    "    \n",
    "    pbar = tqdm(range(1, max_iter + 1))\n",
    "    \n",
    "    for i in pbar:\n",
    "        \n",
    "        x_0_samples, x_1_samples = conditional_sample_fn(batch_size)\n",
    "        \n",
    "        x_0_samples, x_1_samples = x_0_samples.to(device), x_1_samples.to(device)\n",
    "        \n",
    "        t = torch.rand([batch_size, 1], device=device) * (1 - safe_t)\n",
    "                \n",
    "        x_t = x_1_samples * t + x_0_samples * (1 - t) + torch.sqrt(eps * t * (1 - t)) * torch.randn_like(x_0_samples)\n",
    "        \n",
    "        predicted_drift = model.get_drift(x_t, t.squeeze())\n",
    "        \n",
    "        loss_plan = (model.get_log_C(x_0_samples) - model.get_log_potential(x_1_samples)).mean()\n",
    "        \n",
    "        target_drift = (x_1_samples - x_t) / (1 - t)\n",
    "        \n",
    "        loss = F.mse_loss(target_drift, predicted_drift)\n",
    "        \n",
    "        opt.zero_grad()\n",
    "        \n",
    "        loss.backward()\n",
    "        \n",
    "        opt.step()\n",
    "        \n",
    "        pbar.set_description(f'Loss : {loss.item()} Plan Loss: {loss_plan.item()}')\n",
    "        \n",
    "        if wandb.run:\n",
    "            wandb.log({'loss_bm': loss, 'loss_plan': loss_plan})\n",
    "        \n",
    "        if i % val_freq == 0:\n",
    "            \n",
    "            x_0_samples, x_1_samples = conditional_sample_fn(10000)\n",
    "\n",
    "            x_1_pred = model(x_0_samples.to(device))\n",
    "            \n",
    "            BW_UVP = compute_BW_UVP_by_gt_samples(x_1_pred, x_1_samples)\n",
    "            \n",
    "            print(f'BW UVP {BW_UVP}')\n",
    "            \n",
    "            if wandb.run:\n",
    "                wandb.log({'bw_uvp': BW_UVP})\n",
    "    \n",
    "    cBW = calcuate_condBW(model, dim, eps, device=device)\n",
    "    print(f'condBW: {cBW}')\n",
    "    \n",
    "    if wandb.run:\n",
    "        wandb.log({'condBW': cBW})\n"
   ]
  },
  {
   "cell_type": "code",
   "execution_count": null,
   "id": "2c64ae2a",
   "metadata": {},
   "outputs": [],
   "source": [
    "wandb_config = {'Dim': dim, 'eps': eps, 'seed': SEED, 'series_id': series_id, 'plan': plan_type}\n",
    "\n",
    "wandb.init(project=\"OSBM\", name=f\"LSBM_EOT_{dim}_eps_{eps}\", config=wandb_config)"
   ]
  },
  {
   "cell_type": "code",
   "execution_count": null,
   "id": "a9c9d836",
   "metadata": {
    "scrolled": true
   },
   "outputs": [],
   "source": [
    "\n",
    "if plan_type == 'ind':\n",
    "    conditional_sample_fn = get_indepedent_plan_sample_fn(sampler.x_sample, sampler.y_sample)\n",
    "elif plan_type == 'ot':\n",
    "    conditional_sample_fn = get_discrete_ot_plan_sample_fn(sampler.x_sample, sampler.y_sample)\n",
    "elif plan_type == 'gt':\n",
    "    conditional_sample_fn = get_gt_plan_sample_fn_EOT(sampler)\n",
    "else:\n",
    "    raise ValueError('unknown type of conditional sampling plan')\n",
    "\n",
    "train(model, max_iter=30000, conditional_sample_fn=conditional_sample_fn, eps=eps, opt=opt, val_freq=5000)\n"
   ]
  },
  {
   "cell_type": "code",
   "execution_count": null,
   "id": "a3013f6b",
   "metadata": {},
   "outputs": [],
   "source": [
    "wandb.finish()"
   ]
  },
  {
   "cell_type": "code",
   "execution_count": null,
   "id": "d4d1cb70",
   "metadata": {},
   "outputs": [],
   "source": []
  }
 ],
 "metadata": {
  "celltoolbar": "Tags",
  "kernelspec": {
   "display_name": "Python 3 (ipykernel)",
   "language": "python",
   "name": "python3"
  },
  "language_info": {
   "codemirror_mode": {
    "name": "ipython",
    "version": 3
   },
   "file_extension": ".py",
   "mimetype": "text/x-python",
   "name": "python",
   "nbconvert_exporter": "python",
   "pygments_lexer": "ipython3",
   "version": "3.10.10"
  }
 },
 "nbformat": 4,
 "nbformat_minor": 5
}
