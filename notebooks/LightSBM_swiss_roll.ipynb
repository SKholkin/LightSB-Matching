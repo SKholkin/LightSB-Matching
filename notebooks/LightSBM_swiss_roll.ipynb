{
 "cells": [
  {
   "cell_type": "markdown",
   "id": "f4773165",
   "metadata": {},
   "source": [
    "## Imports"
   ]
  },
  {
   "cell_type": "code",
   "execution_count": null,
   "id": "59bde5f5",
   "metadata": {},
   "outputs": [],
   "source": [
    "import torch\n",
    "from tqdm import tqdm\n",
    "import torch.nn.functional as F\n",
    "import wandb\n",
    "import numpy as np\n",
    "\n",
    "import sys\n",
    "\n",
    "sys.path.append('..')\n",
    "\n",
    "from src.lightsbm import LightSBM\n",
    "from notebooks_utils import SwissRollSampler, StandardNormalSampler, pca_plot\n"
   ]
  },
  {
   "cell_type": "markdown",
   "id": "bcfb9585",
   "metadata": {},
   "source": [
    "## Parameters"
   ]
  },
  {
   "cell_type": "code",
   "execution_count": null,
   "id": "3e545e57",
   "metadata": {
    "tags": [
     "parameters"
    ]
   },
   "outputs": [],
   "source": [
    "dim = 2\n",
    "eps = 0.1\n",
    "n_potentials = 50\n",
    "S_init = 1.\n",
    "\n",
    "device = 'cpu'\n",
    "\n",
    "SEED = 42\n",
    "torch.manual_seed(SEED); np.random.seed(SEED)\n"
   ]
  },
  {
   "cell_type": "markdown",
   "id": "a7de8ca0",
   "metadata": {},
   "source": [
    "## Data"
   ]
  },
  {
   "cell_type": "code",
   "execution_count": null,
   "id": "f345d0a8",
   "metadata": {},
   "outputs": [],
   "source": [
    "\n",
    "sampler_x = StandardNormalSampler(dim=dim)\n",
    "sampler_y = SwissRollSampler()\n"
   ]
  },
  {
   "cell_type": "markdown",
   "id": "ceb24f5d",
   "metadata": {},
   "source": [
    "## Model"
   ]
  },
  {
   "cell_type": "code",
   "execution_count": null,
   "id": "6a50b563",
   "metadata": {},
   "outputs": [],
   "source": [
    "\n",
    "model = LightSBM(dim=dim, n_potentials=n_potentials, epsilon=eps, S_diagonal_init=S_init, is_diagonal=True)\n",
    "\n",
    "model.init_r_by_samples(sampler_y.sample(n_potentials))\n",
    "\n",
    "model.to(device)\n",
    "\n",
    "opt = torch.optim.Adam(model.parameters(), lr=1e-3)\n"
   ]
  },
  {
   "cell_type": "markdown",
   "id": "94cb1a6a",
   "metadata": {},
   "source": [
    "## Train"
   ]
  },
  {
   "cell_type": "code",
   "execution_count": null,
   "id": "01be2abc",
   "metadata": {},
   "outputs": [],
   "source": [
    "\n",
    "def train(model, opt, sampler_x, sampler_y, max_iter=10000, val_freq=1000, batch_size=512, safe_t=1e-2, device=device):\n",
    "    \n",
    "    pbar = tqdm(range(1, max_iter + 1))\n",
    "    \n",
    "    for i in pbar:\n",
    "        \n",
    "        x_0_samples = sampler_x.sample(batch_size).to(device)      \n",
    "        x_1_samples = sampler_y.sample(batch_size).to(device)\n",
    "        \n",
    "        t = torch.rand([batch_size, 1], device=device) * (1 - safe_t)\n",
    "        \n",
    "        x_t = x_1_samples * t + x_0_samples * (1 - t) + torch.sqrt(eps * t * (1 - t)) * torch.randn_like(x_0_samples)\n",
    "        \n",
    "        predicted_drift = model.get_drift(x_t, t.squeeze())\n",
    "        \n",
    "        loss_plan = (model.get_log_C(x_0_samples) - model.get_log_potential(x_1_samples)).mean()\n",
    "        \n",
    "        target_drift = (x_1_samples - x_t) / (1 - t)\n",
    "        \n",
    "        loss = F.mse_loss(target_drift, predicted_drift)\n",
    "        \n",
    "        opt.zero_grad()\n",
    "        \n",
    "        loss.backward()\n",
    "        \n",
    "        opt.step()\n",
    "        \n",
    "        pbar.set_description(f'Loss : {loss.item()} Plan Loss: {loss_plan.item()}')\n",
    "        \n",
    "        if wandb.run:\n",
    "            wandb.log({'Loss_BM': loss, 'Loss_Plan': loss_plan})\n",
    "            \n",
    "        if i % val_freq == 0:\n",
    "            \n",
    "            \n",
    "            val_samples = 1000\n",
    "            x_0_samples = sampler_x.sample(val_samples).to(device)      \n",
    "            x_1_samples = sampler_y.sample(val_samples).to(device)\n",
    "            \n",
    "            x_1_pred = model(x_0_samples)\n",
    "            \n",
    "            pca_plot(x_0_samples.cpu(), x_1_samples.cpu(), x_1_pred.cpu(), n_plot=val_samples, save_name='Swiss_roll_LightSBM.png', is_wandb=wandb.run)\n",
    "\n",
    "\n"
   ]
  },
  {
   "cell_type": "code",
   "execution_count": null,
   "id": "d1d86bc2",
   "metadata": {
    "scrolled": true
   },
   "outputs": [],
   "source": [
    "wandb.init(project=\"OSBM\", name=f\"LSBM_SwissRoll_eps_{eps}_S_init_{S_init}\")\n",
    "\n",
    "train(model, opt, sampler_x, sampler_y, max_iter=50000, val_freq=5000, batch_size=512, safe_t=1e-2, device=device)\n",
    "\n",
    "wandb.finish()"
   ]
  },
  {
   "cell_type": "code",
   "execution_count": null,
   "id": "5e3d56b8",
   "metadata": {},
   "outputs": [],
   "source": [
    "import matplotlib.pyplot as plt\n",
    "\n",
    "fig, axes = plt.subplots(1, 2, figsize=(15, 6.75), dpi=200)\n",
    "\n",
    "for ax in axes:\n",
    "    ax.grid(zorder=-20)\n",
    "\n",
    "x_samples = sampler_x.sample(2048)\n",
    "y_samples = sampler_y.sample(2048)\n",
    "\n",
    "tr_samples = torch.tensor([[0.0, 0.0], [1.75, -1.75], [-1.5, 1.5], [2, 2]])\n",
    "\n",
    "tr_samples = tr_samples[None].repeat(3, 1, 1).reshape(12, 2)\n",
    "\n",
    "axes[0].scatter(x_samples[:, 0], x_samples[:, 1], alpha=0.3, \n",
    "                c=\"g\", s=32, edgecolors=\"black\", label = r\"Input distirubtion $p_0$\")\n",
    "axes[0].scatter(y_samples[:, 0], y_samples[:, 1], \n",
    "                c=\"orange\", s=32, edgecolors=\"black\", label = r\"Target distribution $p_1$\")\n",
    "\n",
    "y_pred = model(x_samples)\n",
    "\n",
    "ax.scatter(y_pred[:, 0], y_pred[:, 1], \n",
    "           c=\"yellow\", s=32, edgecolors=\"black\", label = \"Fitted distribution\", zorder=1)\n",
    "\n",
    "trajectory = model.sample_euler_maruyama(tr_samples, 1000).detach().cpu()\n",
    "\n",
    "ax.scatter(tr_samples[:, 0], tr_samples[:, 1], \n",
    "   c=\"g\", s=128, edgecolors=\"black\", label = r\"Trajectory start ($x \\sim p_0$)\", zorder=3)\n",
    "\n",
    "ax.scatter(trajectory[:, -1, 0], trajectory[:, -1, 1], \n",
    "   c=\"red\", s=64, edgecolors=\"black\", label = r\"Trajectory end (fitted)\", zorder=3)\n",
    "\n",
    "for i in range(12):\n",
    "    ax.plot(trajectory[i, ::1, 0], trajectory[i, ::1, 1], \"black\", markeredgecolor=\"black\",\n",
    "         linewidth=1.5, zorder=2)\n",
    "    if i == 0:\n",
    "        ax.plot(trajectory[i, ::1, 0], trajectory[i, ::1, 1], \"grey\", markeredgecolor=\"black\",\n",
    "                 linewidth=0.5, zorder=2, label=r\"Trajectory of $T_{\\theta}$\")\n",
    "    else:\n",
    "        ax.plot(trajectory[i, ::1, 0], trajectory[i, ::1, 1], \"grey\", markeredgecolor=\"black\",\n",
    "                 linewidth=0.5, zorder=2)\n",
    "\n",
    "for ax in axes:\n",
    "    ax.set_xlim([-2.5, 2.5])\n",
    "    ax.set_ylim([-2.5, 2.5])\n",
    "    ax.legend(loc=\"lower left\")\n",
    "\n",
    "fig.tight_layout(pad=0.1)\n"
   ]
  },
  {
   "cell_type": "code",
   "execution_count": null,
   "id": "bc101ec6",
   "metadata": {},
   "outputs": [],
   "source": []
  }
 ],
 "metadata": {
  "celltoolbar": "Tags",
  "kernelspec": {
   "display_name": "Python 3 (ipykernel)",
   "language": "python",
   "name": "python3"
  },
  "language_info": {
   "codemirror_mode": {
    "name": "ipython",
    "version": 3
   },
   "file_extension": ".py",
   "mimetype": "text/x-python",
   "name": "python",
   "nbconvert_exporter": "python",
   "pygments_lexer": "ipython3",
   "version": "3.10.10"
  }
 },
 "nbformat": 4,
 "nbformat_minor": 5
}
